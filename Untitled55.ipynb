{
 "cells": [
  {
   "cell_type": "markdown",
   "id": "b550a3f3-3438-4d36-85e8-9fe346136c43",
   "metadata": {},
   "source": [
    "## Q1. What is the purpose of grid search cv in machine learning, and how does it work?"
   ]
  },
  {
   "cell_type": "code",
   "execution_count": null,
   "id": "dda7f3cb-0095-4d70-8c0e-da2bc82ae522",
   "metadata": {},
   "outputs": [],
   "source": [
    "Grid search cross-validation (GridSearchCV) is a technique used in machine learning to tune hyperparameters of a model by exhaustively searching through a predefined grid of hyperparameter values. Its purpose is to find the optimal combination of hyperparameters that yields the best performance for a given model and dataset.\n",
    "\n",
    "Here's how GridSearchCV works:\n",
    "\n",
    "Define Hyperparameter Grid:\n",
    "\n",
    "Specify a grid of hyperparameter values for the model to explore during the search. Each hyperparameter of interest and its corresponding set of values are defined in the grid.\n",
    "Cross-Validation:\n",
    "\n",
    "Split the dataset into multiple folds (typically using k-fold cross-validation).\n",
    "For each combination of hyperparameters in the grid:\n",
    "Train the model on \n",
    "�\n",
    "−\n",
    "1\n",
    "k−1 folds of the training data.\n",
    "Evaluate the model's performance on the remaining fold (validation set).\n",
    "Repeat this process for each fold, calculating the average performance across all folds.\n",
    "Model Evaluation:\n",
    "\n",
    "Calculate a performance metric (e.g., accuracy, F1 score, mean squared error) for each combination of hyperparameters based on the validation set.\n",
    "Select the combination of hyperparameters that maximizes (or minimizes, depending on the metric) the performance metric.\n",
    "Final Model Training:\n",
    "\n",
    "Optionally, after finding the optimal hyperparameters, retrain the model on the entire training dataset (including validation set) using the selected hyperparameters.\n",
    "This step ensures that the final model is trained on the maximum amount of data available before making predictions on unseen data.\n",
    "GridSearchCV systematically explores all possible combinations of hyperparameters defined in the grid, making it computationally expensive for large grids and complex models. To address this, randomized search cross-validation (RandomizedSearchCV) can be used as an alternative, where a random subset of hyperparameter combinations is sampled from the grid, reducing computational cost while still providing good performance.\n",
    "\n",
    "Overall, GridSearchCV is a powerful technique for hyperparameter tuning in machine learning, helping to optimize model performance and improve generalization to unseen data by finding the best hyperparameters for a given model and dataset."
   ]
  },
  {
   "cell_type": "markdown",
   "id": "74cd84cf-039f-4c90-8fad-d40444d384ef",
   "metadata": {},
   "source": [
    "## Q2. Describe the difference between grid search cv and randomize search cv, and when might you choose\n",
    "one over the other?"
   ]
  },
  {
   "cell_type": "code",
   "execution_count": null,
   "id": "ed679f3f-9f10-482e-881e-0e6b9bf8544a",
   "metadata": {},
   "outputs": [],
   "source": []
  }
 ],
 "metadata": {
  "kernelspec": {
   "display_name": "Python 3 (ipykernel)",
   "language": "python",
   "name": "python3"
  },
  "language_info": {
   "codemirror_mode": {
    "name": "ipython",
    "version": 3
   },
   "file_extension": ".py",
   "mimetype": "text/x-python",
   "name": "python",
   "nbconvert_exporter": "python",
   "pygments_lexer": "ipython3",
   "version": "3.10.8"
  }
 },
 "nbformat": 4,
 "nbformat_minor": 5
}
